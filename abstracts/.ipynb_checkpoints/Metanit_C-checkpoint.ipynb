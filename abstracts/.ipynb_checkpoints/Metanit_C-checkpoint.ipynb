{
 "cells": [
  {
   "cell_type": "code",
   "execution_count": 10,
   "id": "2dbe9738",
   "metadata": {},
   "outputs": [],
   "source": [
    "#include <stdio.h>\n",
    "#include <limits.h>"
   ]
  },
  {
   "cell_type": "markdown",
   "id": "f162208c",
   "metadata": {},
   "source": [
    "# Язык программирования С\n",
    "## Введение:\n",
    "\n",
    "Основные особенности Си:\n",
    "- Высокая скорость выполнения\n",
    "- Компактность, небольшой размер выходных скомпилированных файлов\n"
   ]
  },
  {
   "cell_type": "markdown",
   "id": "4a948cc4",
   "metadata": {},
   "source": [
    "## Переменные\n",
    "\n",
    "- **char**: один символ от -128 до 128 (8 бит)\n",
    "- **unsigned char**: один символ от 0 до 255 (8 бит);\n",
    "- **short**: целое число от –32768 до 32767 (16 бит);\n",
    "- **unsigned short**: целое число от 0 до 65535 (16 бит);\n",
    "- **int**: целое число от −2 147 483 648 до 2 147 483 647 (32 бита);\n",
    "- **unsigned int**: целое число от 0 до 4 294 967 295 (32 бита);\n",
    "- **long**: целое число в диапазоне от −9 223 372 036 854 775 808 до +9 223 372 036 854 775 807 (64 бита);\n",
    "- **unsigned long**: представляет целое число в диапазоне от 0 до 18 446 744 073 709 551 615 (64 бита);\n",
    "- **float**:вещественное число ординарной точности с плавающей точкой в диапазоне +/- 3.4E-38 до 3.4E+38 (32 бита);\n",
    "- **double**: вещественное число двойной точности с плавающей точкой в диапазоне +/- 1.7E-308 до 1.7E+308 (64 бита);\n",
    "- **long double**: вещественное число двойной точности с плавающей точкой в диапазоне +/- 3.4E-4932 до 1.1E+4932. 80 бит). На некоторых системах может занимать 96 и 128 бит;\n",
    "- **void**: тип без значения;"
   ]
  },
  {
   "cell_type": "code",
   "execution_count": 12,
   "id": "31180f92",
   "metadata": {},
   "outputs": [],
   "source": [
    "int number = 2;\n",
    "int a, b;\n",
    "char c ='d';\n",
    "float d = -2.1345;\n",
    "double f = 3.45;"
   ]
  },
  {
   "cell_type": "code",
   "execution_count": 13,
   "id": "3c538460",
   "metadata": {},
   "outputs": [
    {
     "name": "stdout",
     "output_type": "stream",
     "text": [
      "INT_MIN = -2147483648 \n",
      "INT_MAX = 2147483647 \n"
     ]
    }
   ],
   "source": [
    "printf(\"INT_MIN = %d \\n\", INT_MIN);\n",
    "printf(\"INT_MAX = %d \\n\", INT_MAX);"
   ]
  },
  {
   "cell_type": "markdown",
   "id": "75935290",
   "metadata": {},
   "source": [
    "## Консольный вывод. Функция printf\n",
    "\n",
    "- \\n: перевод на новую строку\n",
    "\n",
    "- \\t: табуляция\n",
    "\n",
    "- \\r: возврат каретки (курсора) в начало строки\n",
    "\n",
    "- \\\\: обратный слеш\n",
    "\n",
    "- \\\\': одинарная кавычка\n",
    "\n",
    "- \\\\\": двойная кавычка\n"
   ]
  },
  {
   "cell_type": "code",
   "execution_count": 14,
   "id": "6d90eec1",
   "metadata": {},
   "outputs": [
    {
     "name": "stdout",
     "output_type": "stream",
     "text": [
      "The book \"The C Programming Language\"\n",
      "Brian Kernighan, Dennis Ritchie"
     ]
    }
   ],
   "source": [
    "printf(\"The book \\\"The C Programming Language\\\"\\nBrian Kernighan, Dennis Ritchie\");"
   ]
  },
  {
   "cell_type": "markdown",
   "id": "9110b4a3",
   "metadata": {},
   "source": [
    "# Спецификаторы\n",
    "\n",
    "- %c: для вывода отдельных символов (тип char)\n",
    "\n",
    "- %s: для вывода строк\n",
    "\n",
    "- %d: для вывода целых чисел со знаком (тип int)\n",
    "\n",
    "- %i: для вывода целых чисел со знаком (тип int)\n",
    "\n",
    "- %u: для вывода целых положительных чисел (тип unsigned)\n",
    "\n",
    "- %f: для вывода чисел с плавающей точкой (float, double)\n",
    "\n",
    "- %F: для вывода чисел с плавающей точкой в верхнем регистре (float, double)\n",
    "\n",
    "- %e: для вывода экспоненциального представления чисел с плавающей точкой (float, double)\n",
    "\n",
    "- %E: для вывода экспоненциального представления чисел с плавающей точкой в верхнем регистре (float, double)\n",
    "\n",
    "- %g: для вывода чисел используется более короткий из форматов %e или %f\n",
    "\n",
    "- %G: для вывода чисел используется более короткий из форматов %E или %F\n",
    "\n",
    "- %o: для вывода восьмеричных чисел без знака\n",
    "\n",
    "- %x: для вывода шестнадцатеричных чисел\n",
    "\n",
    "- %X: для вывода шестнадцатеричных чисел в верхнем регистре\n",
    "\n",
    "- %%: для вывода знака процента"
   ]
  },
  {
   "cell_type": "code",
   "execution_count": 17,
   "id": "f181c2fa",
   "metadata": {},
   "outputs": [
    {
     "name": "stdout",
     "output_type": "stream",
     "text": [
      "x = 71.898598 \n",
      "x = 7.189860e+01 \n",
      "symbol = r \n",
      "number = 23 \n",
      "Hi \n"
     ]
    }
   ],
   "source": [
    "float r = 71.8986;\n",
    "printf(\"x = %f \\n\", r);\n",
    "printf(\"x = %e \\n\", r);   \n",
    "\n",
    "char symbol = 'r';\n",
    "printf(\"symbol = %c \\n\", symbol);\n",
    "     \n",
    "unsigned int number = 23;\n",
    "printf(\"number = %u \\n\", number);\n",
    "\n",
    "printf(\"%s \\n\", \"Hi\");\n"
   ]
  },
  {
   "cell_type": "markdown",
   "id": "97b156b9",
   "metadata": {},
   "source": [
    "## Операции сдвига\n",
    "\n",
    "\n",
    "- <<: Сдвигает битовое представление числа, представленного первым операндом, влево на определенное количество разрядов, которое задается вторым операндом.\n",
    "\n",
    "- \\>>: Сдвигает битовое представление числа вправо на определенное количество разрядов."
   ]
  },
  {
   "cell_type": "code",
   "execution_count": 18,
   "id": "5cff18c8",
   "metadata": {},
   "outputs": [
    {
     "name": "stdout",
     "output_type": "stream",
     "text": [
      "a = 8 \n",
      "b = 2 \n"
     ]
    }
   ],
   "source": [
    "int a = 2 << 2;\n",
    "int b = 16 >> 3;\n",
    "printf(\"a = %d \\n\", a);\n",
    "printf(\"b = %d \\n\", b);"
   ]
  },
  {
   "cell_type": "markdown",
   "id": "b73022a2",
   "metadata": {},
   "source": [
    "- &: поразрядная конъюнкция (операция И или поразрядное умножение). Возвращает 1, если оба из соответствующих разрядов обоих чисел равны 1\n",
    "\n",
    "- |: поразрядная дизъюнкция (операция ИЛИ или поразрядное сложение). Возвращает 1, если хотя бы один из соответствующих разрядов обоих чисел равен 1\n",
    "\n",
    "- ^: поразрядное исключающее ИЛИ. Возвращает 1, если только один из соответствующих разрядов обоих чисел равен 1\n",
    "\n",
    "- ~: поразрядное отрицание. Инвертирует все разряды операнда. Если разряд равен 1, то он становится равен 0, а если он равен 0, то он получает значение 1."
   ]
  },
  {
   "cell_type": "code",
   "execution_count": 22,
   "id": "c3a33453",
   "metadata": {},
   "outputs": [],
   "source": [
    "int a = 5 | 2;          // 101 | 010 = 111  - 7\n",
    "int b = 6 & 2;          // 110 & 010 = 10  - 2\n",
    "int c = 5 ^ 2;          // 101 ^ 010 = 111 - 7\n",
    "int d = ~9;             // -10\n",
    "     \n",
    "printf(\"a = %d \\n\", a);\n",
    "printf(\"b = %d \\n\", b);\n",
    "printf(\"c = %d \\n\", c);\n",
    "printf(\"d = %d \\n\", d);"
   ]
  },
  {
   "cell_type": "markdown",
   "id": "b1ce2075",
   "metadata": {},
   "source": [
    "## Операции присвоения"
   ]
  },
  {
   "cell_type": "code",
   "execution_count": 23,
   "id": "65af4739",
   "metadata": {},
   "outputs": [
    {
     "data": {
      "text/plain": [
       "16"
      ]
     },
     "execution_count": 23,
     "metadata": {},
     "output_type": "execute_result"
    }
   ],
   "source": [
    "int a = 5;\n",
    "a += 10;        // 15\n",
    "a -= 3;         // 12\n",
    "a *= 2;         // 24\n",
    "a /= 6;         // 4\n",
    "a <<= 4;      // 64\n",
    "a >>= 2;      // 16"
   ]
  },
  {
   "cell_type": "markdown",
   "id": "4e796742",
   "metadata": {},
   "source": [
    "## Преобразования типов\n",
    "\n",
    "- Если один из операндов имеет тип **long double**, то второй операнд тоже будет преобразован в тип **long double**\n",
    "\n",
    "- Если предыдущий пункт не выполняется и если один из операндов имеет тип **double**, то второй операнд тоже будет преобразован к типу **double**\n",
    "\n",
    "- Если предыдущий пункт не выполняется и если один из операндов имеет тип **float**, то второй операнд тоже будет преобразован к типу **float**\n",
    "\n",
    "- Если предыдущий пункт не выполняется и если один из операндов имеет тип **unsigned long int**, то второй операнд тоже будет преобразован к типу **unsigned long int**\n",
    "\n",
    "- Если предыдущий пункт не выполняется и если один из операндов имеет тип **long**, то второй операнд тоже будет преобразован к типу **long**\n",
    "\n",
    "- Если предыдущий пункт не выполняется и если один из операндов имеет тип **unsigned**, то второй операнд тоже будет преобразован к типу **unsigned**\n",
    "\n",
    "- Если предыдущий пункт не выполняется то оба операнда приводятся к типу **int**"
   ]
  },
  {
   "cell_type": "code",
   "execution_count": 24,
   "id": "772bf66a",
   "metadata": {},
   "outputs": [
    {
     "name": "stdout",
     "output_type": "stream",
     "text": [
      "c = 2 \n",
      "d = 2.000000 \n",
      "e = 2.500000 \n"
     ]
    }
   ],
   "source": [
    "int a = 10;\n",
    "int b = 4;\n",
    "int c = a / b;                      // 2\n",
    "double d = a / b;                   // 2.00000\n",
    "double e = (double)a / (double)b;   // 2.50000\n",
    "printf(\"c = %d \\n\", c);\n",
    "printf(\"d = %f \\n\", d);\n",
    "printf(\"e = %f \\n\", e);"
   ]
  },
  {
   "cell_type": "code",
   "execution_count": 26,
   "id": "5961ae0c",
   "metadata": {},
   "outputs": [
    {
     "name": "stdout",
     "output_type": "stream",
     "text": [
      "symbol = F \n",
      "symbol (int code) = 70 \n"
     ]
    },
    {
     "data": {
      "text/plain": [
       "24"
      ]
     },
     "execution_count": 26,
     "metadata": {},
     "output_type": "execute_result"
    }
   ],
   "source": [
    "int number = 70;\n",
    "char symbol = (char) number;\n",
    "printf(\"symbol = %c \\n\", symbol);               //  F\n",
    "printf(\"symbol (int code) = %d \\n\", symbol);    // 70"
   ]
  },
  {
   "cell_type": "markdown",
   "id": "aee48224",
   "metadata": {},
   "source": [
    "## Ветвление\n",
    "### Оператор if"
   ]
  },
  {
   "cell_type": "code",
   "execution_count": 30,
   "id": "3b92a06c",
   "metadata": {},
   "outputs": [
    {
     "name": "stdout",
     "output_type": "stream",
     "text": [
      "else statement \n",
      "x is equal 60 \n"
     ]
    }
   ],
   "source": [
    "int x = 60;\n",
    "     \n",
    "if(x > 60)\n",
    "{\n",
    "    printf(\"if statement \\n\");\n",
    "    printf(\"x is greater than 60 \\n\");\n",
    "}\n",
    "else if (x < 60)\n",
    "{\n",
    "    printf(\"else if statement \\n\");\n",
    "    printf(\"x is less than 60 \\n\");\n",
    "}\n",
    "else\n",
    "{\n",
    "    printf(\"else statement \\n\");\n",
    "    printf(\"x is equal 60 \\n\");\n",
    "}"
   ]
  },
  {
   "cell_type": "markdown",
   "id": "025a8d93",
   "metadata": {},
   "source": [
    "## Конструкция switch"
   ]
  },
  {
   "cell_type": "code",
   "execution_count": 28,
   "id": "f76aaf9d",
   "metadata": {},
   "outputs": [
    {
     "name": "stdout",
     "output_type": "stream",
     "text": [
      "x = 2 \n"
     ]
    }
   ],
   "source": [
    "    int x = 2;\n",
    "     \n",
    "    switch(x)\n",
    "    {\n",
    "        case 1: \n",
    "            printf(\"x = 1 \\n\");\n",
    "            break;\n",
    "        case 2: \n",
    "            printf(\"x = 2 \\n\");\n",
    "            break;\n",
    "        case 3: \n",
    "            printf(\"x = 3 \\n\");\n",
    "            break;\n",
    "        default: \n",
    "            printf(\"x is undefined \\n\");\n",
    "            break;\n",
    "    }"
   ]
  },
  {
   "cell_type": "markdown",
   "id": "bc6b8510",
   "metadata": {},
   "source": [
    "## Тернарный оператор\n",
    "<p>[первый операнд - условие] ? [второй операнд] : [третий операнд]</p>"
   ]
  },
  {
   "cell_type": "code",
   "execution_count": 29,
   "id": "e0a7958a",
   "metadata": {},
   "outputs": [
    {
     "name": "stdout",
     "output_type": "stream",
     "text": [
      "z = 5"
     ]
    },
    {
     "data": {
      "text/plain": [
       "5"
      ]
     },
     "execution_count": 29,
     "metadata": {},
     "output_type": "execute_result"
    }
   ],
   "source": [
    "int x=3;\n",
    "    int y=2;\n",
    "    char op ='+';\n",
    "     \n",
    "    int z = op == '+'? (x+y) : (x-y);\n",
    "     \n",
    "    printf(\"z = %d\", z);        // 5"
   ]
  },
  {
   "cell_type": "markdown",
   "id": "c7742e6d",
   "metadata": {},
   "source": [
    "## Циклы\n",
    "\n",
    "- for\n",
    "- while\n",
    "- do..while"
   ]
  },
  {
   "cell_type": "code",
   "execution_count": 31,
   "id": "24b9c170",
   "metadata": {},
   "outputs": [
    {
     "name": "stdout",
     "output_type": "stream",
     "text": [
      "0 * 0 = 0 \n",
      "1 * 1 = 1 \n",
      "2 * 2 = 4 \n",
      "3 * 3 = 9 \n",
      "4 * 4 = 16 \n",
      "5 * 5 = 25 \n",
      "6 * 6 = 36 \n",
      "7 * 7 = 49 \n",
      "8 * 8 = 64 \n"
     ]
    }
   ],
   "source": [
    "    for (int i = 0; i < 9; i++)\n",
    "    {\n",
    "        printf(\"%d * %d = %d \\n\", i, i,  i * i);\n",
    "    }"
   ]
  },
  {
   "cell_type": "code",
   "execution_count": 35,
   "id": "c3fffac3",
   "metadata": {},
   "outputs": [
    {
     "name": "stdout",
     "output_type": "stream",
     "text": [
      "-1"
     ]
    }
   ],
   "source": [
    "int i = -1;\n",
    "do\n",
    "{\n",
    "    printf(\"%d\", i);\n",
    "    i--;\n",
    "}\n",
    "while (i > 0);"
   ]
  },
  {
   "cell_type": "code",
   "execution_count": 37,
   "id": "c9372f70",
   "metadata": {},
   "outputs": [
    {
     "name": "stdout",
     "output_type": "stream",
     "text": [
      "6 \n",
      "5 \n",
      "4 \n",
      "3 \n",
      "2 \n",
      "1 \n"
     ]
    }
   ],
   "source": [
    "int i = 6;\n",
    "while (i > 0)\n",
    "{\n",
    "    printf(\"%d \\n\", i);\n",
    "    i--;\n",
    "}"
   ]
  },
  {
   "cell_type": "markdown",
   "id": "570eca24",
   "metadata": {},
   "source": [
    "## Массивы и строки\n",
    "\n"
   ]
  },
  {
   "cell_type": "code",
   "execution_count": 39,
   "id": "5f90743b",
   "metadata": {},
   "outputs": [
    {
     "name": "stdout",
     "output_type": "stream",
     "text": [
      "numbers[2] = 3"
     ]
    }
   ],
   "source": [
    "    int numbers[4];\n",
    "    numbers[0] = 1;\n",
    "    numbers[1] = 2;\n",
    "    numbers[2] = 3;\n",
    "    numbers[3] = 4;\n",
    "     \n",
    "    printf(\"numbers[2] = %d\", numbers[2]); "
   ]
  },
  {
   "cell_type": "code",
   "execution_count": 40,
   "id": "c5189a6d",
   "metadata": {},
   "outputs": [
    {
     "name": "stdout",
     "output_type": "stream",
     "text": [
      "numbers[0] = 10 \n",
      "numbers[1] = 12 \n",
      "numbers[2] = 13 \n",
      "numbers[3] = 54 \n",
      "numbers[4] = 43 \n"
     ]
    }
   ],
   "source": [
    "    int numbers[5] = { 10, 12, 13, 54, 43 };\n",
    "    for(int i =0; i < 5; i++)\n",
    "    {\n",
    "        printf(\"numbers[%d] = %d \\n\", i, numbers[i]);\n",
    "    }"
   ]
  },
  {
   "cell_type": "code",
   "execution_count": 41,
   "id": "f86e2642",
   "metadata": {},
   "outputs": [
    {
     "name": "stdout",
     "output_type": "stream",
     "text": [
      "numbers[0][0] = 1 \n",
      "numbers[0][1] = 2 \n",
      "numbers[1][0] = 4 \n",
      "numbers[1][1] = 5 \n",
      "numbers[2][0] = 7 \n",
      "numbers[2][1] = 8 \n"
     ]
    }
   ],
   "source": [
    "    int numbers[3][2] = { {1, 2}, {4, 5}, {7, 8} };\n",
    "    for(int i =0; i < 3; i++)\n",
    "    {\n",
    "        for(int j =0; j<2; j++)\n",
    "        {\n",
    "            printf(\"numbers[%d][%d] = %d \\n\", i, j, numbers[i][j]);\n",
    "        }\n",
    "    }"
   ]
  },
  {
   "cell_type": "code",
   "execution_count": 42,
   "id": "129b2035",
   "metadata": {},
   "outputs": [
    {
     "name": "stdout",
     "output_type": "stream",
     "text": [
      "welcome = Hello \n"
     ]
    }
   ],
   "source": [
    "char welcome[] = \"Hello\";\n",
    "printf(\"welcome = %s \\n\", welcome); "
   ]
  },
  {
   "cell_type": "markdown",
   "id": "d3575a5e",
   "metadata": {},
   "source": [
    "# Препроцессор\n",
    "\n",
    "- **#define**: определяет макрос или препроцессорный идентификатор;\n",
    "- **#undef**: отменяет определение макроса или идентификатора;\n",
    "- **#ifdef**: проверяет, определен ли идентификатор;\n",
    "- **#ifndef**: проверяет неопределенности идентификатор;\n",
    "- **#include**: включает текст из файла;\n",
    "- **#if**: проверяет условие выражение (как условная конструкция if);\n",
    "- **#else**: задает альтернативное условие для #if;\n",
    "- **#endif**: окончание условной директивы #if;\n",
    "- **#elif**: задает альтернативное условие для #if;\n",
    "- **#line**: меняет номер следующей ниже строки;\n",
    "- **#error**: формирует текст сообщения об ошибке трансляции;\n",
    "- **#pragma**: определяет действия, которые зависят от конкретной реализации компилятора;\n",
    "- **#**: пустая директива, по сути ничего не делает\n"
   ]
  },
  {
   "cell_type": "markdown",
   "id": "34b40577",
   "metadata": {},
   "source": [
    "### Директива #include. Включение файлов\n",
    "\n",
    "`\n",
    "#include <имя_файла>  // абсолютный\n",
    "#include \"имя_файла\"  // относительный\n",
    "`"
   ]
  },
  {
   "cell_type": "markdown",
   "id": "3bf490fa",
   "metadata": {},
   "source": [
    "### Директива #define\n",
    "\n",
    "Директива #define определяет идентификатор и последовательность символов, которые будут подставляться вместо идентификатора каждый раз, когда он встретится в исходном файле. Формальное определение директивы:"
   ]
  },
  {
   "cell_type": "code",
   "execution_count": 45,
   "id": "e92ffe13",
   "metadata": {},
   "outputs": [
    {
     "data": {
      "text/plain": [
       "0"
      ]
     },
     "execution_count": 45,
     "metadata": {},
     "output_type": "execute_result"
    }
   ],
   "source": [
    "#define BEGIN {\n",
    "#define END }\n",
    "#define N 23\n",
    "\n",
    "BEGIN\n",
    "    int x = N;\n",
    "    return 0;\n",
    "END"
   ]
  },
  {
   "cell_type": "markdown",
   "id": "7e0ccd4d",
   "metadata": {},
   "source": [
    "### Директива #undef\n",
    "\n",
    "многократно определять новое значение для одного идентификатора"
   ]
  },
  {
   "cell_type": "code",
   "execution_count": 46,
   "id": "a97bd2e7",
   "metadata": {},
   "outputs": [
    {
     "name": "stdout",
     "output_type": "stream",
     "text": [
      "Good morning \n",
      "Good afternoon \n",
      "Good evening \n"
     ]
    }
   ],
   "source": [
    "#define STRING \"Good morning \\n\"    \n",
    "printf(STRING);\n",
    "#undef STRING\n",
    "#define STRING \"Good afternoon \\n\"\n",
    "printf(STRING);\n",
    "#undef STRING\n",
    "#define STRING \"Good evening \\n\"\n",
    "printf(STRING);"
   ]
  },
  {
   "cell_type": "markdown",
   "id": "b98f108d",
   "metadata": {},
   "source": [
    "## Макросы\n",
    "Все идентификаторы, определяемые с помощью директив #define, которые предполагают замену на определенную последовательность символов, еще называют макросами."
   ]
  },
  {
   "cell_type": "code",
   "execution_count": 47,
   "id": "5c4b7456",
   "metadata": {},
   "outputs": [
    {
     "name": "stdout",
     "output_type": "stream",
     "text": [
      "Hello World! \n",
      "Hello World! \n",
      "Hello World! \n",
      "Hello World! \n"
     ]
    }
   ],
   "source": [
    "#define HELLO printf(\"Hello World! \\n\")\n",
    "#define FOR for(int i=0; i<4; i++)\n",
    "FOR HELLO;\n"
   ]
  },
  {
   "cell_type": "code",
   "execution_count": 48,
   "id": "828bb609",
   "metadata": {},
   "outputs": [
    {
     "name": "stdout",
     "output_type": "stream",
     "text": [
      "x=10 \t y=4"
     ]
    }
   ],
   "source": [
    "#define t int\n",
    "#define swap(t, x, y) { t temp = x; x = y; y=temp;}\n",
    "t x = 4;\n",
    "t y = 10;\n",
    "swap(t, x, y)\n",
    "printf(\"x=%d \\t y=%d\", x, y);"
   ]
  },
  {
   "cell_type": "code",
   "execution_count": 51,
   "id": "91fa8362",
   "metadata": {},
   "outputs": [
    {
     "name": "stdout",
     "output_type": "stream",
     "text": [
      "min = 14"
     ]
    }
   ],
   "source": [
    "#define min(a,b) (a < b ? a : b)\n",
    "int x = 23;\n",
    "int y = 14;\n",
    "int z = min(x,y);\n",
    "printf(\"min = %d\", z);"
   ]
  },
  {
   "cell_type": "markdown",
   "id": "a7f09ebb",
   "metadata": {},
   "source": [
    "## Препроцессорные операции\n",
    "\n",
    "При обработки исходного кода препроцессор может выполнять две операции: # и ##."
   ]
  },
  {
   "cell_type": "code",
   "execution_count": 52,
   "id": "43f96c44",
   "metadata": {},
   "outputs": [
    {
     "name": "stdout",
     "output_type": "stream",
     "text": [
      "x=23 \n",
      "y=14 \n",
      "number=203 \n"
     ]
    },
    {
     "data": {
      "text/plain": [
       "12"
      ]
     },
     "execution_count": 52,
     "metadata": {},
     "output_type": "execute_result"
    }
   ],
   "source": [
    "#define print_int(n) printf(#n\"=%d \\n\",n);\n",
    "int x = 23;\n",
    "print_int(x);       // x=23\n",
    "int y = 14;\n",
    "print_int(y);       // y=14\n",
    "int number = 203;\n",
    "print_int(number);  // number=203"
   ]
  },
  {
   "cell_type": "code",
   "execution_count": 53,
   "id": "fdf76a0a",
   "metadata": {},
   "outputs": [
    {
     "name": "stdout",
     "output_type": "stream",
     "text": [
      "28134"
     ]
    }
   ],
   "source": [
    "#define print(a,b,c) printf(\"%d\", a##b##c);\n",
    "print(2, 81, 34);"
   ]
  },
  {
   "cell_type": "code",
   "execution_count": 55,
   "id": "dc6574ec",
   "metadata": {},
   "outputs": [
    {
     "name": "stdout",
     "output_type": "stream",
     "text": [
      "28134 \n"
     ]
    }
   ],
   "source": [
    "#define unite(a,b,c) a##b##c;\n",
    "int x = unite(2, 81, 34);\n",
    "printf(\"%d \\n\", x);"
   ]
  },
  {
   "cell_type": "markdown",
   "id": "62f507fb",
   "metadata": {},
   "source": [
    "## Условная компиляция\n",
    "\n",
    "```\n",
    "#if условие\n",
    "текст_1\n",
    "#else\n",
    "текст_2\n",
    "#endif\n",
    "```"
   ]
  },
  {
   "cell_type": "code",
   "execution_count": 57,
   "id": "0b0bf0db",
   "metadata": {},
   "outputs": [
    {
     "name": "stdout",
     "output_type": "stream",
     "text": [
      "N=22"
     ]
    },
    {
     "data": {
      "text/plain": [
       "4"
      ]
     },
     "execution_count": 57,
     "metadata": {},
     "output_type": "execute_result"
    }
   ],
   "source": [
    "#undef N\n",
    "#define N 22\n",
    "#if N==22\n",
    "    printf(\"N=22\");\n",
    "#else\n",
    "    printf(\"N is undefined\");\n",
    "#endif"
   ]
  },
  {
   "cell_type": "code",
   "execution_count": 58,
   "id": "b2f1ec5b",
   "metadata": {},
   "outputs": [
    {
     "name": "stdout",
     "output_type": "stream",
     "text": [
      "debug mode; beta version"
     ]
    },
    {
     "data": {
      "text/plain": [
       "24"
      ]
     },
     "execution_count": 58,
     "metadata": {},
     "output_type": "execute_result"
    }
   ],
   "source": [
    "#define BETA\n",
    "#define DEBUG\n",
    "#if defined DEBUG && !defined BETA\n",
    "    printf(\"debug mode; final version\");\n",
    "#elif defined DEBUG && defined BETA\n",
    "    printf(\"debug mode; beta version\");\n",
    "#else\n",
    "    printf(\"undefined mode\");\n",
    "#endif"
   ]
  },
  {
   "cell_type": "markdown",
   "id": "17c28c18",
   "metadata": {},
   "source": [
    "# Функции\n",
    "\n",
    "```\n",
    "тип имя_функции(параметры)\n",
    "{\n",
    "    выполняемые_выражения\n",
    "}\n",
    "```"
   ]
  },
  {
   "cell_type": "code",
   "execution_count": 71,
   "id": "23683bcd",
   "metadata": {},
   "outputs": [
    {
     "name": "stdout",
     "output_type": "stream",
     "text": [
      "Hello!\n"
     ]
    }
   ],
   "source": [
    "void hello() {\n",
    "    printf(\"Hello!\\n\");    \n",
    "}\n",
    "\n",
    "hello();"
   ]
  },
  {
   "cell_type": "markdown",
   "id": "89e22cea",
   "metadata": {},
   "source": [
    "## Передача параметров в функцию\n",
    "\n",
    "Функция может принимать параметры. Параметры перечисляются в скобках после имени функции имеют следующее определение:"
   ]
  },
  {
   "cell_type": "code",
   "execution_count": 73,
   "id": "e5ba6794",
   "metadata": {},
   "outputs": [
    {
     "name": "stdout",
     "output_type": "stream",
     "text": [
      "factorial of 4 is equal 24 \n",
      "factorial of 6 is equal 720 \n"
     ]
    }
   ],
   "source": [
    "void factorial(int n)\n",
    "{\n",
    "    int result = 1;\n",
    "    for(int i=1;i<=n;i++)\n",
    "    {\n",
    "        result *= i;\n",
    "    }\n",
    "    printf(\"factorial of %d is equal %d \\n\", n, result);\n",
    "}\n",
    "\n",
    "factorial(4);\n",
    "factorial(6);"
   ]
  },
  {
   "cell_type": "markdown",
   "id": "5ae842c4",
   "metadata": {},
   "source": [
    "## Возвращение значений из функции"
   ]
  },
  {
   "cell_type": "code",
   "execution_count": 76,
   "id": "1cd8a891",
   "metadata": {},
   "outputs": [
    {
     "name": "stdout",
     "output_type": "stream",
     "text": [
      "factorial of 4 is equal 24 \n",
      "factorial of 6 is equal 720 \n"
     ]
    }
   ],
   "source": [
    "int factorial(int n)\n",
    "{\n",
    "    int result = 1;\n",
    "    for(int i=1;i<=n;i++)\n",
    "    {\n",
    "        result *= i;\n",
    "    }\n",
    "    return result;\n",
    "}\n",
    "\n",
    "int arg,f;\n",
    "     \n",
    "arg = 4;\n",
    "f = factorial(arg);\n",
    "printf(\"factorial of %d is equal %d \\n\", arg, f);\n",
    "     \n",
    "arg = 6;\n",
    "f = factorial(arg);\n",
    "printf(\"factorial of %d is equal %d \\n\", arg, f);"
   ]
  },
  {
   "cell_type": "markdown",
   "id": "a7fac919",
   "metadata": {},
   "source": [
    "## Рекурсивные функции\n",
    "\n"
   ]
  },
  {
   "cell_type": "code",
   "execution_count": 80,
   "id": "0df19565",
   "metadata": {},
   "outputs": [
    {
     "name": "stdout",
     "output_type": "stream",
     "text": [
      "720 \n"
     ]
    }
   ],
   "source": [
    "int factorial(int n)\n",
    "{\n",
    "    if (n == 1)\n",
    "    {\n",
    "        return 1;\n",
    "    }\n",
    "    else\n",
    "    {\n",
    "        return n * factorial(n - 1);\n",
    "    }\n",
    "}\n",
    "\n",
    "int result = factorial(6);\n",
    "printf(\"%d \\n\", result); "
   ]
  },
  {
   "cell_type": "code",
   "execution_count": null,
   "id": "9d42f5e6",
   "metadata": {},
   "outputs": [],
   "source": [
    "int fibonachi(int n)\n",
    "{\n",
    "    if (n == 0)\n",
    "    {\n",
    "        return 0;\n",
    "    }\n",
    "    if (n == 1)\n",
    "    {\n",
    "        return 1;\n",
    "    }\n",
    "    else\n",
    "    {\n",
    "        return fibonachi(n - 1) + fibonachi(n - 2);\n",
    "    }\n",
    "}\n",
    "\n",
    "int result = fibonachi(10);\n",
    "printf(\"%d \\n\", result);"
   ]
  },
  {
   "cell_type": "code",
   "execution_count": null,
   "id": "c5783547",
   "metadata": {},
   "outputs": [],
   "source": []
  }
 ],
 "metadata": {
  "kernelspec": {
   "display_name": "C++17",
   "language": "C++17",
   "name": "xcpp17"
  },
  "language_info": {
   "codemirror_mode": "text/x-c++src",
   "file_extension": ".cpp",
   "mimetype": "text/x-c++src",
   "name": "c++",
   "version": "17"
  }
 },
 "nbformat": 4,
 "nbformat_minor": 5
}
